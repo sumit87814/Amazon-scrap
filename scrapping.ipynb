{
 "cells": [
  {
   "cell_type": "code",
   "execution_count": 71,
   "metadata": {},
   "outputs": [],
   "source": [
    "from autoscraper import AutoScraper"
   ]
  },
  {
   "cell_type": "code",
   "execution_count": 72,
   "metadata": {},
   "outputs": [],
   "source": [
    "amazon_url=\"https://www.amazon.in/s?k=bags\"\n",
    "\n",
    "wanted_list=[\"Skybags Brat Black 46 Cms Casual Backpack\",\"₹669\",\"2,534\",\"4.1 out of 5\"]"
   ]
  },
  {
   "cell_type": "code",
   "execution_count": 73,
   "metadata": {},
   "outputs": [
    {
     "name": "stdout",
     "output_type": "stream",
     "text": [
      "['Best sellerin Casual Daypacks', 'American Tourister 32 Ltrs Black Casual Backpack (AMT FIZZ SCH BAG 02 - BLACK)', 'Amazon\\'s Choicefor \"bags\"', 'Skybags Brat Black 46 Cms Casual Backpack', 'Best sellerin Laptop Backpacks', 'Half Moon 35 L Casual Waterproof Laptop Bag/Backpack for Men Women Boys Girls/Office School College Teens & Students with Rain Cover (18 Inch) (Navy)', 'Martucci 15.6 inch 30 L Casual Waterproof Laptop Backpack/Office Bag/School Bag/College Bag/Business Bag/Unisex Travel Backpack(Black)', 'Wesley Milestone 2.0 Casual Waterproof Laptop Backpack/Office Bag/School Bag/College Bag/Business Bag/Travel Backpack (Dimensions:13x18 inches) (Compatible with 15.6 inch Laptop) (Blue & Black)', 'TRUE HUMAN Emperor Legend Anti-Theft backpack With USB charging Port and anti -theft back pocket - Black', 'Best sellerin Laptop Briefcases', 'Bennett Mystic 15.6 inch(39.6cm) Laptop Shoulder Messenger Sling Office Bag, Water Repellent Fabric for Men and Women (Blue)', 'Northzone Lightweight school bags Backpacks for Boys Girls Stylish men and women Casual Travel Laptop Bag College office', 'Wesley Milestone 2.0 Casual Waterproof Laptop Backpack/Office Bag/School Bag/College Bag/Business Bag/Travel Backpack (Dimensions:13x18 inches) (Compatible with 15.6\" Laptop) (Charcoal Black)', 'The Purple Tree Multifunction Waterproof Laptop Travel Backpack with Shoe Compartment, Shoulder Bag, 35 L Laptop Backpack with USB Charging, Flight Cabin Backpack , Antitheft Zipper Bag', 'Best sellerin Messenger & Sling Bags', \"DEIN KLEIDER Men's Nylon Messenger Bag\", 'Wesley Spartan Unisex Travel Hiking Laptop Bag fits Upto 17.3 inch with Raincover and Internal Organiser Backpack Rucksack College Bag', 'ZIPLINE Unisex Casual Polyester 36 L Backpack School Bag Women Men Boys Girls Children Daypack College Bag Book School Sports Bag', 'TRUE HUMAN Anti-Theft and USB Charging Port Backpack with Combination Lock Laptop Bag (Grey)', 'Wesley Unisex Milestone Casual Waterproof Laptop Office School College Business Travel Backpack 25 L (Dimensions: 12.5x18 inches) (Compatible with 15.6 inch laptops), Navy Blue', \"Bagneeds Men's Black Synthetic Leather Briefcase Best Laptop Messenger Bag Satchel for Men\", 'Half Moon 35 L Casual Waterproof Laptop Bag/Backpack for Men Women Boys Girls/Office School College Teens & Students with ...', 'Martucci 15.6 inch 30 L Casual Waterproof Laptop Backpack/Office Bag/School Bag/College Bag/Business Bag/Unisex Travel Bac...', 'Wesley Milestone 2.0 Casual Waterproof Laptop Backpack/Office Bag/School Bag/College Bag/Business Bag/Travel Backpack (Dim...', 'The Purple Tree Multifunction Waterproof Laptop Travel Backpack with Shoe Compartment, Shoulder Bag, 35 L Laptop Backpack ...', 'Wesley Spartan Unisex Travel Hiking Laptop Bag fits Upto 17.3 inch with Raincover and Internal Organiser Backpack Rucksack...', 'ZIPLINE Unisex Casual Polyester 36 L Backpack School Bag Women Men Boys Girls Children Daypack College Bag Book School Spo...', 'Wesley Unisex Milestone Casual Waterproof Laptop Office School College Business Travel Backpack 25 L (Dimensions: 12.5x18 ...', '₹1,099', '₹2,300', '₹669', '₹2,100', '₹699', '₹1,799', '₹568', '₹565', '₹1,199', '₹715', '₹512', '₹1,499', '₹630', '₹1,599', '₹508', '₹2,599', '₹3,999', '₹305', '₹998', '₹734', '₹1,899', '₹498', '₹664']\n"
     ]
    }
   ],
   "source": [
    "scrapper=AutoScraper()\n",
    "result=scrapper.build(amazon_url,wanted_list)\n",
    "print(result)"
   ]
  },
  {
   "cell_type": "code",
   "execution_count": 74,
   "metadata": {},
   "outputs": [
    {
     "data": {
      "text/plain": [
       "{'rule_kf5m': ['Best sellerin Casual Daypacks',\n",
       "  'American Tourister 32 Ltrs Black Casual Backpack (AMT FIZZ SCH BAG 02 - BLACK)',\n",
       "  'Amazon\\'s Choicefor \"bags\"',\n",
       "  'Skybags Brat Black 46 Cms Casual Backpack',\n",
       "  'Best sellerin Laptop Backpacks',\n",
       "  'Half Moon 35 L Casual Waterproof Laptop Bag/Backpack for Men Women Boys Girls/Office School College Teens & Students with Rain Cover (18 Inch) (Navy)',\n",
       "  'Martucci 15.6 inch 30 L Casual Waterproof Laptop Backpack/Office Bag/School Bag/College Bag/Business Bag/Unisex Travel Backpack(Black)',\n",
       "  'Wesley Milestone 2.0 Casual Waterproof Laptop Backpack/Office Bag/School Bag/College Bag/Business Bag/Travel Backpack (Dimensions:13x18 inches) (Compatible with 15.6 inch Laptop) (Blue & Black)',\n",
       "  'TRUE HUMAN Emperor Legend Anti-Theft backpack With USB charging Port and anti -theft back pocket - Black',\n",
       "  'Wesley Milestone 2.0 Casual Waterproof Laptop Backpack/Office Bag/School Bag/College Bag/Business Bag/Travel Backpack (Dimensions:13x18 inches) (Compatible with 15.6\" Laptop) (Charcoal Black)',\n",
       "  'Wesley Spartan Unisex Travel Hiking Laptop Bag fits Upto 17.3 inch with Raincover and Internal Organiser Backpack Rucksack College Bag',\n",
       "  'Best sellerin Laptop Briefcases',\n",
       "  'Bennett Mystic 15.6 inch(39.6cm) Laptop Shoulder Messenger Sling Office Bag, Water Repellent Fabric for Men and Women (Blue)',\n",
       "  'TRUE HUMAN Anti-Theft and USB Charging Port Backpack with Combination Lock Laptop Bag (Grey)',\n",
       "  'Best sellerin Messenger & Sling Bags',\n",
       "  \"DEIN KLEIDER Men's Nylon Messenger Bag\",\n",
       "  \"Bagneeds Men's Black Synthetic Leather Briefcase Best Laptop Messenger Bag Satchel for Men\",\n",
       "  'ZIPLINE Unisex Casual Polyester 36 L Backpack School Bag Women Men Boys Girls Children Daypack College Bag Book School Sports Bag',\n",
       "  'Northzone Lightweight school bags Backpacks for Boys Girls Stylish men and women Casual Travel Laptop Bag College office',\n",
       "  'TRUE HUMAN backpack with USB charging Port Laptop bag , office bag , college bag ( COOPER )',\n",
       "  'Wesley Unisex Milestone Casual Waterproof Laptop Office School College Business Travel Backpack 25 L (Dimensions: 12.5x18 inches) (Compatible with 15.6 inch laptops), Navy Blue'],\n",
       " 'rule_9oyg': ['American Tourister 32 Ltrs Black Casual Backpack (AMT FIZZ SCH BAG 02 - BLACK)',\n",
       "  'Skybags Brat Black 46 Cms Casual Backpack',\n",
       "  'Half Moon 35 L Casual Waterproof Laptop Bag/Backpack for Men Women Boys Girls/Office School College Teens & Students with ...',\n",
       "  'Martucci 15.6 inch 30 L Casual Waterproof Laptop Backpack/Office Bag/School Bag/College Bag/Business Bag/Unisex Travel Bac...',\n",
       "  'Wesley Milestone 2.0 Casual Waterproof Laptop Backpack/Office Bag/School Bag/College Bag/Business Bag/Travel Backpack (Dim...',\n",
       "  'TRUE HUMAN Emperor Legend Anti-Theft backpack With USB charging Port and anti -theft back pocket - Black',\n",
       "  'Wesley Milestone 2.0 Casual Waterproof Laptop Backpack/Office Bag/School Bag/College Bag/Business Bag/Travel Backpack (Dim...',\n",
       "  'Wesley Spartan Unisex Travel Hiking Laptop Bag fits Upto 17.3 inch with Raincover and Internal Organiser Backpack Rucksack...',\n",
       "  'Bennett Mystic 15.6 inch(39.6cm) Laptop Shoulder Messenger Sling Office Bag, Water Repellent Fabric for Men and Women (Blue)',\n",
       "  'TRUE HUMAN Anti-Theft and USB Charging Port Backpack with Combination Lock Laptop Bag (Grey)',\n",
       "  \"DEIN KLEIDER Men's Nylon Messenger Bag\",\n",
       "  \"Bagneeds Men's Black Synthetic Leather Briefcase Best Laptop Messenger Bag Satchel for Men\",\n",
       "  'ZIPLINE Unisex Casual Polyester 36 L Backpack School Bag Women Men Boys Girls Children Daypack College Bag Book School Spo...',\n",
       "  'Northzone Lightweight school bags Backpacks for Boys Girls Stylish men and women Casual Travel Laptop Bag College office',\n",
       "  'TRUE HUMAN backpack with USB charging Port Laptop bag , office bag , college bag ( COOPER )',\n",
       "  'Wesley Unisex Milestone Casual Waterproof Laptop Office School College Business Travel Backpack 25 L (Dimensions: 12.5x18 ...'],\n",
       " 'rule_motn': ['₹1,099',\n",
       "  '₹2,300',\n",
       "  '₹669',\n",
       "  '₹2,100',\n",
       "  '₹699',\n",
       "  '₹1,799',\n",
       "  '₹568',\n",
       "  '₹1,799',\n",
       "  '₹565',\n",
       "  '₹1,199',\n",
       "  '₹715',\n",
       "  '₹2,100',\n",
       "  '₹508',\n",
       "  '₹1,199',\n",
       "  '₹998',\n",
       "  '₹512',\n",
       "  '₹1,499',\n",
       "  '₹699',\n",
       "  '₹2,100',\n",
       "  '₹305',\n",
       "  '₹1,199',\n",
       "  '₹664',\n",
       "  '₹1,899',\n",
       "  '₹734',\n",
       "  '₹1,899',\n",
       "  '₹630',\n",
       "  '₹1,599',\n",
       "  '₹599',\n",
       "  '₹2,100',\n",
       "  '₹498',\n",
       "  '₹1,199'],\n",
       " 'rule_2v33': ['₹1,099',\n",
       "  '₹2,300',\n",
       "  '₹669',\n",
       "  '₹2,100',\n",
       "  '₹699',\n",
       "  '₹1,799',\n",
       "  '₹568',\n",
       "  '₹1,799',\n",
       "  '₹565',\n",
       "  '₹1,199',\n",
       "  '₹715',\n",
       "  '₹2,100',\n",
       "  '₹508',\n",
       "  '₹1,199',\n",
       "  '₹998',\n",
       "  '₹512',\n",
       "  '₹1,499',\n",
       "  '₹699',\n",
       "  '₹2,100',\n",
       "  '₹305',\n",
       "  '₹1,199',\n",
       "  '₹664',\n",
       "  '₹1,899',\n",
       "  '₹734',\n",
       "  '₹1,899',\n",
       "  '₹630',\n",
       "  '₹1,599',\n",
       "  '₹599',\n",
       "  '₹2,100',\n",
       "  '₹498',\n",
       "  '₹1,199']}"
      ]
     },
     "execution_count": 74,
     "metadata": {},
     "output_type": "execute_result"
    }
   ],
   "source": [
    "scrapper.get_result_similar(amazon_url,grouped=True)"
   ]
  },
  {
   "cell_type": "code",
   "execution_count": 75,
   "metadata": {},
   "outputs": [],
   "source": [
    "amazon_url=\"https://www.amazon.in/s?k=bags\"\n",
    "\n",
    "wanted =['Get it by Thursday, November 24','FREE Delivery by Amazon','(68% off)']"
   ]
  },
  {
   "cell_type": "code",
   "execution_count": 76,
   "metadata": {},
   "outputs": [
    {
     "name": "stdout",
     "output_type": "stream",
     "text": [
      "['Get it by Thursday, November 24', 'Get it by Saturday, November 26', 'FREE Delivery', 'FREE Delivery by Amazon', 'FREE Delivery by AmazonOnly 2 left in stock.', 'Get it by Friday, November 25', 'Get it by Thursday, November 24FREE Delivery by Amazon', 'Get it by Saturday, November 26FREE Delivery by Amazon', 'FREE Delivery on first order.', 'Get it by Saturday, November 26FREE Delivery on first order.', 'Deal of the Day', 'Limited time deal', '₹841₹841 ₹2,064₹2,064  (59% off)', '(52% off)', '(68% off)', '(61% off)', '(53% off)', '(66% off)', '(58% off)', '(67% off)', '(75% off)', '(65% off)', '(71% off)']\n"
     ]
    }
   ],
   "source": [
    "scrapper=AutoScraper()\n",
    "result=scrapper.build(amazon_url,wanted)\n",
    "print(result)"
   ]
  },
  {
   "cell_type": "code",
   "execution_count": 79,
   "metadata": {},
   "outputs": [],
   "source": [
    "amazon_url='https://www.amazon.in/American-Tourister-AMT-SCH-02'\n",
    "\n",
    "wanted1=['B07CJCGM1M']"
   ]
  },
  {
   "cell_type": "code",
   "execution_count": 80,
   "metadata": {},
   "outputs": [
    {
     "name": "stdout",
     "output_type": "stream",
     "text": [
      "[]\n"
     ]
    }
   ],
   "source": [
    "scrapper=AutoScraper()\n",
    "result=scrapper.build(amazon_url,wanted)\n",
    "print(result)"
   ]
  }
 ],
 "metadata": {
  "kernelspec": {
   "display_name": "Python 3.9.5 64-bit",
   "language": "python",
   "name": "python3"
  },
  "language_info": {
   "codemirror_mode": {
    "name": "ipython",
    "version": 3
   },
   "file_extension": ".py",
   "mimetype": "text/x-python",
   "name": "python",
   "nbconvert_exporter": "python",
   "pygments_lexer": "ipython3",
   "version": "3.9.5"
  },
  "orig_nbformat": 4,
  "vscode": {
   "interpreter": {
    "hash": "e817d3155c3d44ed214bd4eb17c292ab263c8e58021a816d6b372e40b4d29483"
   }
  }
 },
 "nbformat": 4,
 "nbformat_minor": 2
}
